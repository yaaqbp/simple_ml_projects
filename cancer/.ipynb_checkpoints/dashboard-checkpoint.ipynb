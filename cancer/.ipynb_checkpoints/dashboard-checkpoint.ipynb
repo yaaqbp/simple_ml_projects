{
 "cells": [
  {
   "cell_type": "code",
   "execution_count": 97,
   "metadata": {},
   "outputs": [],
   "source": [
    "import pandas as pd \n",
    "import numpy as np \n",
    "import seaborn as sns \n",
    "import matplotlib.pyplot as plt\n",
    "from joblib import load\n",
    "import shap\n",
    "import dalex as dx\n",
    "\n",
    "from ipywidgets import interact, interactive, fixed, interact_manual, IntSlider\n",
    "import ipywidgets as widgets\n"
   ]
  },
  {
   "cell_type": "code",
   "execution_count": 18,
   "metadata": {},
   "outputs": [],
   "source": [
    "gbrt = load('model.joblib')\n",
    "df_train = pd.read_csv('data/data_train.csv')\n",
    "X_train, y_train = df_train.drop('diagnosis', axis = 1), pd.DataFrame(df_train['diagnosis'])"
   ]
  },
  {
   "cell_type": "code",
   "execution_count": 21,
   "metadata": {},
   "outputs": [],
   "source": [
    "explainer = shap.TreeExplainer(gbrt)\n",
    "shap_values = explainer.shap_values(X_train)"
   ]
  },
  {
   "cell_type": "code",
   "execution_count": 27,
   "metadata": {},
   "outputs": [
    {
     "name": "stdout",
     "output_type": "stream",
     "text": [
      "Preparation of a new explainer is initiated\n",
      "\n",
      "  -> data              : 341 rows 31 cols\n",
      "  -> target variable   : Parameter 'y' was a pandas.DataFrame. Converted to a numpy.ndarray.\n",
      "  -> target variable   : 341 values\n",
      "  -> target variable   : Please note that 'y' is a string array.\n",
      "  -> target variable   : 'y' should be a numeric or boolean array.\n",
      "  -> target variable   : Otherwise an Error may occur in calculating residuals or loss.\n",
      "  -> model_class       : sklearn.ensemble._gb.GradientBoostingClassifier (default)\n",
      "  -> label             : Not specified, model's class short name will be used. (default)\n",
      "  -> predict function  : <function yhat_proba_default at 0x7f5b537f79d0> will be used (default)\n",
      "  -> predict function  : Accepts pandas.DataFrame and numpy.ndarray.\n",
      "  -> predicted values  : min = 8.16e-05, mean = 0.372, max = 1.0\n",
      "  -> model type        : classification will be used (default)\n",
      "  -> residual function : difference between y and yhat (default)\n",
      "  -> residuals         :  'residual_function' returns an Error when executed:\n",
      "unsupported operand type(s) for -: 'str' and 'float'\n",
      "  -> model_info        : package sklearn\n",
      "\n",
      "A new explainer has been created!\n"
     ]
    }
   ],
   "source": [
    "explainer = dx.Explainer(gbrt, X_train, y_train)"
   ]
  },
  {
   "cell_type": "code",
   "execution_count": 30,
   "metadata": {},
   "outputs": [
    {
     "data": {
      "text/plain": [
       "array([0.01154381])"
      ]
     },
     "execution_count": 30,
     "metadata": {},
     "output_type": "execute_result"
    }
   ],
   "source": [
    "explainer.predict(test)"
   ]
  },
  {
   "cell_type": "code",
   "execution_count": 125,
   "metadata": {},
   "outputs": [],
   "source": [
    "from ipywidgets import Checkbox, Output, FloatSlider"
   ]
  },
  {
   "cell_type": "code",
   "execution_count": 204,
   "metadata": {},
   "outputs": [
    {
     "data": {
      "application/vnd.jupyter.widget-view+json": {
       "model_id": "afc7100f7b4f491592ced8141aa54092",
       "version_major": 2,
       "version_minor": 0
      },
      "text/plain": [
       "interactive(children=(FloatSlider(value=14.25428152492668, description='radius_mean', max=27.42, min=7.729), F…"
      ]
     },
     "metadata": {},
     "output_type": "display_data"
    }
   ],
   "source": [
    "sliders = []\n",
    "sliders_feat = ['radius_mean', 'area_se', 'concavity_mean']\n",
    "for _ in sliders_feat:\n",
    "    sliders.append(FloatSlider(min=min(X_train[_]), max=max(X_train[_]), value = X_train[_].mean(), description = f'{_}'))\n",
    "                  \n",
    "lst = [x_widget, y_widget, z_widget]\n",
    "def fun(s0,s1,s2,):\n",
    "    test = pd.DataFrame(dict(zip(X_train.columns, X_train.mean())), index = [''])\n",
    "    test[sliders_feat[0]] = s0\n",
    "    test[sliders_feat[1]] = s1\n",
    "    test[sliders_feat[2]] = s2\n",
    "    bd_test = explainer.predict_parts(test, type = 'break_down', label = test.index[0])\n",
    "    bd_test.plot()\n",
    "    shap.summary_plot(shap_values, X_train, plot_type = 'bar')\n",
    "\n",
    "interact(fun,\n",
    "         s0 = sliders[0],\n",
    "         s1 = sliders[1], \n",
    "         s2 = sliders[2]);"
   ]
  },
  {
   "cell_type": "code",
   "execution_count": null,
   "metadata": {},
   "outputs": [],
   "source": []
  }
 ],
 "metadata": {
  "kernelspec": {
   "display_name": "Python 3",
   "language": "python",
   "name": "python3"
  },
  "language_info": {
   "codemirror_mode": {
    "name": "ipython",
    "version": 3
   },
   "file_extension": ".py",
   "mimetype": "text/x-python",
   "name": "python",
   "nbconvert_exporter": "python",
   "pygments_lexer": "ipython3",
   "version": "3.8.12"
  }
 },
 "nbformat": 4,
 "nbformat_minor": 4
}
